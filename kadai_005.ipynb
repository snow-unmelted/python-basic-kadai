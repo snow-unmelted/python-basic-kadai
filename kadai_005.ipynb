{
  "nbformat": 4,
  "nbformat_minor": 0,
  "metadata": {
    "colab": {
      "provenance": []
    },
    "kernelspec": {
      "name": "python3",
      "display_name": "Python 3"
    },
    "language_info": {
      "name": "python"
    }
  },
  "cells": [
    {
      "cell_type": "code",
      "source": [
        "upper_side=10\n",
        "under_side=20\n",
        "height=5\n",
        "\n",
        "#台形の面積を計算\n",
        "area_of_trapezoid=(upper_side+under_side*height/2)\n",
        "#結果を出力\n",
        "print(f\"台形の面積は{area_of_trapezoid}c㎡です。\")"
      ],
      "metadata": {
        "colab": {
          "base_uri": "https://localhost:8080/"
        },
        "id": "uyB7hgcT559M",
        "outputId": "491cf58f-cd09-4f64-e754-efd6ae5ea1d2"
      },
      "execution_count": null,
      "outputs": [
        {
          "output_type": "stream",
          "name": "stdout",
          "text": [
            "台形の面積は60.0c㎡です。\n"
          ]
        }
      ]
    }
  ]
}